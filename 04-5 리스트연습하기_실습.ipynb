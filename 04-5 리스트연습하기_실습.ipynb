{
 "cells": [
  {
   "cell_type": "markdown",
   "id": "41dcfd1f",
   "metadata": {},
   "source": [
    "# 학생별 총점,평균 구하기"
   ]
  },
  {
   "cell_type": "markdown",
   "id": "ce0257c0",
   "metadata": {},
   "source": [
    "\n",
    "* 다음은 학생 별 [국어,영어,수학]점수가 저장된 리스트이다.    \n",
    "score_list = [[96,84,80],[96,86,76],[76,95,83],[89,96,69],[90,76,91]]   \n",
    "각 학생의 세 과목의 성적의 [총점, 평균]을 구하여 리스트에 담으시오.    \n",
    "(평균은 반올림하여 소수점 1자리까지 표현한다.)"
   ]
  },
  {
   "cell_type": "code",
   "execution_count": 5,
   "id": "56cbf408",
   "metadata": {},
   "outputs": [],
   "source": [
    "score_list = [[96,84,80],[96,86,76],[76,95,83],[89,96,69],[90,76,91]]\n",
    "stu_scores = []"
   ]
  },
  {
   "cell_type": "code",
   "execution_count": 37,
   "id": "131fd2e4",
   "metadata": {},
   "outputs": [
    {
     "name": "stdout",
     "output_type": "stream",
     "text": [
      "[[[260, 86.66666666666667], [258, 86.0], [254, 84.66666666666667], [254, 84.66666666666667], [257, 85.66666666666667]]]\n"
     ]
    }
   ],
   "source": [
    "l1=[sum(score_list[0]), sum(score_list[0])/3]\n",
    "l2=[sum(score_list[1]), sum(score_list[1])/3]\n",
    "l3=[sum(score_list[2]), sum(score_list[2])/3]\n",
    "l4=[sum(score_list[3]), sum(score_list[3])/3]\n",
    "l5=[sum(score_list[4]), sum(score_list[4])/3]\n",
    "\n",
    "stu_scores.append([l1,l2,l3,l4,l5])\n",
    "print(stu_scores)"
   ]
  },
  {
   "cell_type": "code",
   "execution_count": 6,
   "id": "7d6bae0a",
   "metadata": {},
   "outputs": [
    {
     "data": {
      "text/plain": [
       "[[260, 86.7], [258, 86.0], [254, 84.7], [254, 84.7], [257, 85.7]]"
      ]
     },
     "execution_count": 6,
     "metadata": {},
     "output_type": "execute_result"
    }
   ],
   "source": [
    "for i in score_list:\n",
    "    total= sum(i)\n",
    "    average= total/3\n",
    "    #print([total,round(average,1)])\n",
    "    stu_scores.append([total,round(average,1)])\n",
    "    \n",
    "stu_scores"
   ]
  },
  {
   "cell_type": "markdown",
   "id": "c8116eaa",
   "metadata": {},
   "source": [
    "# 과목별 평균 구하기"
   ]
  },
  {
   "cell_type": "markdown",
   "id": "b9a3b11f",
   "metadata": {},
   "source": [
    "* 다음은 학생 별 [국어,영어,수학]점수가 저장된 리스트이다.       \n",
    "score_list = [[96,84,80],[96,86,76],[76,95,83],[89,96,69],[90,76,91]]         \n",
    "각 과목의 리스트를 분리하고 과목별 평균을 구해봅시다.\n",
    "평균은 소수점 1자리까지 출력한다."
   ]
  },
  {
   "cell_type": "code",
   "execution_count": 18,
   "id": "78c2d658",
   "metadata": {
    "scrolled": false
   },
   "outputs": [
    {
     "name": "stdout",
     "output_type": "stream",
     "text": [
      "kor_average: [89.4]\n",
      "eng_average: [87.4]\n",
      "math_average: [79.8]\n"
     ]
    }
   ],
   "source": [
    "score_list = [[96,84,80],[96,86,76],[76,95,83],[89,96,69],[90,76,91]]\n",
    "kor_list=[]\n",
    "eng_list=[]\n",
    "math_list=[]\n",
    "\n",
    "for i in score_list:\n",
    "    #print(i)\n",
    "    kor_list.append(i[0])\n",
    "    eng_list.append(i[1])\n",
    "    math_list.append(i[2])\n",
    "    kor_average=[round(sum(kor_list)/len(kor_list),1)]\n",
    "    eng_average=[round(sum(eng_list)/len(eng_list),1)]\n",
    "    math_average=[round(sum(math_list)/len(math_list),1)]\n",
    "print('kor_average:',kor_average)\n",
    "print('eng_average:',eng_average)\n",
    "print('math_average:',math_average)"
   ]
  },
  {
   "cell_type": "markdown",
   "id": "b699ae64",
   "metadata": {},
   "source": [
    "# 랜덤 항목 추출하기\n",
    "* random.choice(리스트명)"
   ]
  },
  {
   "cell_type": "code",
   "execution_count": 22,
   "id": "fb6f8088",
   "metadata": {},
   "outputs": [
    {
     "name": "stdout",
     "output_type": "stream",
     "text": [
      "오늘은 뭘먹지?\n"
     ]
    }
   ],
   "source": [
    "menulist = ['한식','일식','중식','양식','분식','이탈리아식']\n",
    "print('오늘은 뭘먹지?')"
   ]
  },
  {
   "cell_type": "code",
   "execution_count": 29,
   "id": "ea086f1c",
   "metadata": {},
   "outputs": [
    {
     "data": {
      "text/plain": [
       "'한식'"
      ]
     },
     "execution_count": 29,
     "metadata": {},
     "output_type": "execute_result"
    }
   ],
   "source": [
    "import random\n",
    "random.choice(menulist)"
   ]
  },
  {
   "cell_type": "markdown",
   "id": "432c3574",
   "metadata": {},
   "source": [
    "* 메뉴를 입력받아 랜덤으로 메뉴를 정하는 프로그램을 작성해봅시다.     \n",
    "공백('')을 입력할 때까지 메뉴를 입력받습니다."
   ]
  },
  {
   "cell_type": "code",
   "execution_count": 5,
   "id": "1f19c85f",
   "metadata": {},
   "outputs": [
    {
     "name": "stdout",
     "output_type": "stream",
     "text": [
      "메뉴를 입력하세요:양식\n",
      "메뉴를 입력하세요:일식\n",
      "메뉴를 입력하세요:한식\n",
      "메뉴를 입력하세요:분식\n",
      "메뉴를 입력하세요:\n",
      "오늘의 메뉴는: 양식\n"
     ]
    }
   ],
   "source": [
    "menulist=[]\n",
    "import random\n",
    "\n",
    "while True:\n",
    "    menu=input('메뉴를 입력하세요:')\n",
    "    if menu=='':\n",
    "        break\n",
    "    menulist.append(menu)\n",
    "    \n",
    "print('오늘의 메뉴는:',random.choice(menulist))"
   ]
  },
  {
   "cell_type": "code",
   "execution_count": null,
   "id": "6ad9c5a8",
   "metadata": {},
   "outputs": [],
   "source": []
  }
 ],
 "metadata": {
  "kernelspec": {
   "display_name": "Python 3 (ipykernel)",
   "language": "python",
   "name": "python3"
  },
  "language_info": {
   "codemirror_mode": {
    "name": "ipython",
    "version": 3
   },
   "file_extension": ".py",
   "mimetype": "text/x-python",
   "name": "python",
   "nbconvert_exporter": "python",
   "pygments_lexer": "ipython3",
   "version": "3.9.12"
  },
  "toc": {
   "base_numbering": 1,
   "nav_menu": {},
   "number_sections": true,
   "sideBar": true,
   "skip_h1_title": false,
   "title_cell": "Table of Contents",
   "title_sidebar": "Contents",
   "toc_cell": false,
   "toc_position": {
    "height": "calc(100% - 180px)",
    "left": "10px",
    "top": "150px",
    "width": "266.075px"
   },
   "toc_section_display": true,
   "toc_window_display": true
  }
 },
 "nbformat": 4,
 "nbformat_minor": 5
}
