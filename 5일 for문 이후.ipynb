{
 "cells": [
  {
   "cell_type": "code",
   "execution_count": 2,
   "id": "310f3aae",
   "metadata": {},
   "outputs": [
    {
     "name": "stdout",
     "output_type": "stream",
     "text": [
      "1\n",
      "2\n",
      "3\n",
      "4\n",
      "5\n"
     ]
    }
   ],
   "source": [
    "for i in range(1,6):\n",
    "    print(i)"
   ]
  },
  {
   "cell_type": "code",
   "execution_count": 1,
   "id": "d7e629e5",
   "metadata": {},
   "outputs": [
    {
     "name": "stdout",
     "output_type": "stream",
     "text": [
      "1\n",
      "2\n",
      "3\n",
      "4\n",
      "5\n"
     ]
    }
   ],
   "source": [
    "n = 1\n",
    "while n<=5:\n",
    "    print(n)\n",
    "    n+=1"
   ]
  },
  {
   "cell_type": "code",
   "execution_count": 9,
   "id": "e788f809",
   "metadata": {},
   "outputs": [
    {
     "name": "stdout",
     "output_type": "stream",
     "text": [
      "55\n"
     ]
    }
   ],
   "source": [
    "total=0\n",
    "for i in range(1,11):\n",
    "    total += i\n",
    "print(total)"
   ]
  },
  {
   "cell_type": "code",
   "execution_count": 3,
   "id": "07e7dfb9",
   "metadata": {},
   "outputs": [
    {
     "name": "stdout",
     "output_type": "stream",
     "text": [
      "55\n"
     ]
    }
   ],
   "source": [
    "n=1\n",
    "total=0\n",
    "while n<=10:\n",
    "    total += n\n",
    "    n+=1\n",
    "print(total)"
   ]
  },
  {
   "cell_type": "code",
   "execution_count": 4,
   "id": "1cc3147e",
   "metadata": {},
   "outputs": [
    {
     "name": "stdout",
     "output_type": "stream",
     "text": [
      "이름:도현\n",
      "이름:진\n",
      "이름:q\n"
     ]
    }
   ],
   "source": [
    "name=input('이름:')\n",
    "while name != 'q':\n",
    "    name=input('이름:')"
   ]
  },
  {
   "cell_type": "code",
   "execution_count": 5,
   "id": "64890af7",
   "metadata": {},
   "outputs": [
    {
     "name": "stdout",
     "output_type": "stream",
     "text": [
      "이름:도현\n",
      "이름:진\n",
      "이름:q\n"
     ]
    }
   ],
   "source": [
    "while True:\n",
    "    name=input('이름:')\n",
    "    if name=='q':\n",
    "        break"
   ]
  },
  {
   "cell_type": "code",
   "execution_count": 8,
   "id": "1d27bb02",
   "metadata": {},
   "outputs": [
    {
     "name": "stdout",
     "output_type": "stream",
     "text": [
      "아이디:id1234\n",
      "아이디:id123\n",
      "패스워드:pwd1234\n",
      "패스워드:pwd123\n"
     ]
    }
   ],
   "source": [
    "while True:\n",
    "    id= input('아이디:')\n",
    "    if id== 'id123':\n",
    "        break\n",
    "while True:\n",
    "    pwd= input('패스워드:')\n",
    "    if pwd== 'pwd123':\n",
    "        break"
   ]
  },
  {
   "cell_type": "code",
   "execution_count": 1,
   "id": "6141b1bf",
   "metadata": {},
   "outputs": [
    {
     "name": "stdout",
     "output_type": "stream",
     "text": [
      "id:id1234\n",
      "pwd:pwd1234\n",
      "id:id123\n",
      "pwd:pwd1234\n",
      "id:id123\n",
      "pwd:pwd123\n"
     ]
    }
   ],
   "source": [
    "id = 'id123'\n",
    "pwd = 'pwd123'\n",
    "\n",
    "while True:\n",
    "    input_id= input('id:')\n",
    "    input_pwd= input ('pwd:')\n",
    "    if id==input_id and pwd==input_pwd:\n",
    "        break"
   ]
  },
  {
   "cell_type": "code",
   "execution_count": 1,
   "id": "4752f971",
   "metadata": {},
   "outputs": [
    {
     "name": "stdout",
     "output_type": "stream",
     "text": [
      "id:id1234\n",
      "pwd:pwd123\n",
      "아이디를 확인하세요\n",
      "id:id1234\n",
      "pwd:pwd1234\n",
      "아이디를 확인하세요\n",
      "비밀번호를 확인하세요\n",
      "id:id123\n",
      "pwd:pwd123\n"
     ]
    }
   ],
   "source": [
    "id = 'id123'\n",
    "pwd = 'pwd123'\n",
    "\n",
    "while True:\n",
    "    input_id= input('id:')\n",
    "    input_pwd= input ('pwd:')\n",
    "    if id==input_id and pwd==input_pwd:\n",
    "        break\n",
    "    if id!=input_id:\n",
    "        print('아이디를 확인하세요')\n",
    "    if pwd!=input_pwd:\n",
    "        print('비밀번호를 확인하세요')"
   ]
  },
  {
   "cell_type": "code",
   "execution_count": 8,
   "id": "daf75596",
   "metadata": {},
   "outputs": [
    {
     "name": "stdout",
     "output_type": "stream",
     "text": [
      "num:1\n",
      "num:4\n",
      "num:5\n",
      "num:0\n"
     ]
    }
   ],
   "source": [
    "num= '0'\n",
    "total=0\n",
    "while True:\n",
    "    input_num=input('num:')\n",
    "    if num==input_num:\n",
    "        break\n",
    "    if num!=input_num:\n",
    "        total+=int(input_num)"
   ]
  },
  {
   "cell_type": "code",
   "execution_count": 9,
   "id": "5142e85d",
   "metadata": {},
   "outputs": [
    {
     "name": "stdout",
     "output_type": "stream",
     "text": [
      "10\n"
     ]
    }
   ],
   "source": [
    "print(total)"
   ]
  },
  {
   "cell_type": "code",
   "execution_count": 1,
   "id": "82f0f744",
   "metadata": {},
   "outputs": [
    {
     "name": "stdout",
     "output_type": "stream",
     "text": [
      "숫자:1\n",
      "숫자:4\n",
      "숫자:5\n",
      "숫자:0\n"
     ]
    }
   ],
   "source": [
    "total=0\n",
    "while True:\n",
    "    num=int(input('숫자:'))\n",
    "    if num==0:\n",
    "        break\n",
    "    total+=num"
   ]
  },
  {
   "cell_type": "code",
   "execution_count": 2,
   "id": "4c209fda",
   "metadata": {},
   "outputs": [
    {
     "name": "stdout",
     "output_type": "stream",
     "text": [
      "10\n"
     ]
    }
   ],
   "source": [
    "print(total)"
   ]
  },
  {
   "cell_type": "code",
   "execution_count": 2,
   "id": "cdadc7aa",
   "metadata": {},
   "outputs": [
    {
     "name": "stdout",
     "output_type": "stream",
     "text": [
      "숫자:50\n",
      "UP\n",
      "숫자:80\n",
      "UP\n",
      "숫자:90\n",
      "UP\n",
      "숫자:95\n",
      "DOWN\n",
      "숫자:93\n",
      "UP\n",
      "숫자:94\n",
      "정답!\n"
     ]
    }
   ],
   "source": [
    "import random\n",
    "num = random.randrange(1,101)\n",
    "\n",
    "while True:\n",
    "    answer = int(input('숫자:'))\n",
    "    if num > answer:\n",
    "        print('UP')\n",
    "    if num < answer:\n",
    "        print('DOWN')\n",
    "    if num == answer:\n",
    "        print('정답!')\n",
    "        break"
   ]
  },
  {
   "cell_type": "code",
   "execution_count": 32,
   "id": "fc002800",
   "metadata": {},
   "outputs": [
    {
     "name": "stdout",
     "output_type": "stream",
     "text": [
      "숫자:50\n",
      "DOWN\n",
      "숫자:30\n",
      "DOWN\n",
      "숫자:15\n",
      "UP\n",
      "숫자:22\n",
      "UP\n",
      "숫자:26\n",
      "UP\n",
      "숫자:28\n",
      "DOWN\n",
      "숫자:27\n",
      "정답!\n",
      "7 번만에 정답을 맞혔습니다.\n"
     ]
    }
   ],
   "source": [
    "#횟수\n",
    "cnt=0\n",
    "\n",
    "#정답숫자\n",
    "import random\n",
    "num = random.randrange(1,101)\n",
    "\n",
    "while True:\n",
    "    cnt += 1\n",
    "    if cnt>7:\n",
    "        print('횟수초과. 정답은', num)\n",
    "        break\n",
    "    answer = int(input('숫자:'))\n",
    "    if num > answer:\n",
    "        print('UP')\n",
    "    if num < answer:\n",
    "        print('DOWN')\n",
    "    if num == answer:\n",
    "        print('정답!')\n",
    "        print(cnt,'번만에 정답을 맞혔습니다.')\n",
    "        break"
   ]
  },
  {
   "cell_type": "code",
   "execution_count": 23,
   "id": "10ca890e",
   "metadata": {},
   "outputs": [
    {
     "name": "stdout",
     "output_type": "stream",
     "text": [
      "숫자1:5\n",
      "숫자2:2\n",
      "연산기호:+\n",
      "5+2=7\n"
     ]
    }
   ],
   "source": [
    "num1= int(input('숫자1:'))\n",
    "num2= int(input('숫자2:'))\n",
    "op= input('연산기호:')\n",
    "\n",
    "if op=='+':\n",
    "    print(f'{num1}+{num2}={num1+num2}')\n",
    "elif op== '-':\n",
    "    print(f'{num1}-{num2}={num1-num2}')\n",
    "elif op== '*':\n",
    "    print(f'{num1}*{num2}={num1*num2}')\n",
    "elif op== '/':\n",
    "    print(f'{num1}/{num2}={num1/num2}')\n",
    "else:\n",
    "    print('잘못 입력하셨습니다.')"
   ]
  },
  {
   "cell_type": "code",
   "execution_count": 6,
   "id": "cd35199c",
   "metadata": {},
   "outputs": [
    {
     "name": "stdout",
     "output_type": "stream",
     "text": [
      "물건구매가:20000\n",
      "할인율은 5%이며, 할인금액은 1000.0입니다. 지불금액은 19000.0입니다.\n"
     ]
    }
   ],
   "source": [
    "price=int(input('물건구매가:'))\n",
    "\n",
    "if price>=100000:\n",
    "    dc=10\n",
    "elif price>=50000:\n",
    "    dc=7\n",
    "elif price>=10000:\n",
    "    dc=5\n",
    "else:\n",
    "    dc=0\n",
    "    \n",
    "print(f'할인율은 {dc}%이며, 할인금액은 {price*dc/100}입니다. 지불금액은 {price*(100-dc)/100}입니다.')"
   ]
  },
  {
   "cell_type": "code",
   "execution_count": 8,
   "id": "b0bef61a",
   "metadata": {},
   "outputs": [
    {
     "data": {
      "text/plain": [
       "[]"
      ]
     },
     "execution_count": 8,
     "metadata": {},
     "output_type": "execute_result"
    }
   ],
   "source": [
    "l1=[]\n",
    "l1"
   ]
  },
  {
   "cell_type": "code",
   "execution_count": 10,
   "id": "bdb1f01c",
   "metadata": {},
   "outputs": [
    {
     "data": {
      "text/plain": [
       "[]"
      ]
     },
     "execution_count": 10,
     "metadata": {},
     "output_type": "execute_result"
    }
   ],
   "source": [
    "l2= list()\n",
    "l2"
   ]
  },
  {
   "cell_type": "code",
   "execution_count": 11,
   "id": "bffe07dc",
   "metadata": {},
   "outputs": [
    {
     "data": {
      "text/plain": [
       "[1, 3, 5, 7, 9]"
      ]
     },
     "execution_count": 11,
     "metadata": {},
     "output_type": "execute_result"
    }
   ],
   "source": [
    "l3=[1,3,5,7,9]\n",
    "l3"
   ]
  },
  {
   "cell_type": "code",
   "execution_count": 13,
   "id": "7023e8d3",
   "metadata": {},
   "outputs": [
    {
     "data": {
      "text/plain": [
       "[1,\n",
       " 3,\n",
       " 5,\n",
       " 7,\n",
       " 9,\n",
       " 11,\n",
       " 13,\n",
       " 15,\n",
       " 17,\n",
       " 19,\n",
       " 21,\n",
       " 23,\n",
       " 25,\n",
       " 27,\n",
       " 29,\n",
       " 31,\n",
       " 33,\n",
       " 35,\n",
       " 37,\n",
       " 39,\n",
       " 41,\n",
       " 43,\n",
       " 45,\n",
       " 47,\n",
       " 49,\n",
       " 51,\n",
       " 53,\n",
       " 55,\n",
       " 57,\n",
       " 59,\n",
       " 61,\n",
       " 63,\n",
       " 65,\n",
       " 67,\n",
       " 69,\n",
       " 71,\n",
       " 73,\n",
       " 75,\n",
       " 77,\n",
       " 79,\n",
       " 81,\n",
       " 83,\n",
       " 85,\n",
       " 87,\n",
       " 89,\n",
       " 91,\n",
       " 93,\n",
       " 95,\n",
       " 97,\n",
       " 99]"
      ]
     },
     "execution_count": 13,
     "metadata": {},
     "output_type": "execute_result"
    }
   ],
   "source": [
    "l4=list(range(1,101,2))\n",
    "l4"
   ]
  },
  {
   "cell_type": "code",
   "execution_count": 16,
   "id": "e45384cf",
   "metadata": {},
   "outputs": [
    {
     "data": {
      "text/plain": [
       "()"
      ]
     },
     "execution_count": 16,
     "metadata": {},
     "output_type": "execute_result"
    }
   ],
   "source": [
    "t1=()\n",
    "t1"
   ]
  },
  {
   "cell_type": "code",
   "execution_count": 18,
   "id": "2083a1b6",
   "metadata": {},
   "outputs": [
    {
     "data": {
      "text/plain": [
       "()"
      ]
     },
     "execution_count": 18,
     "metadata": {},
     "output_type": "execute_result"
    }
   ],
   "source": [
    "t2=tuple()\n",
    "t2"
   ]
  },
  {
   "cell_type": "code",
   "execution_count": 20,
   "id": "b54f3a1a",
   "metadata": {},
   "outputs": [
    {
     "data": {
      "text/plain": [
       "(1, 3, 5, 7, 9)"
      ]
     },
     "execution_count": 20,
     "metadata": {},
     "output_type": "execute_result"
    }
   ],
   "source": [
    "t3=(1,3,5,7,9)\n",
    "t3"
   ]
  },
  {
   "cell_type": "code",
   "execution_count": 24,
   "id": "a941c0fe",
   "metadata": {},
   "outputs": [
    {
     "data": {
      "text/plain": [
       "(1,\n",
       " 3,\n",
       " 5,\n",
       " 7,\n",
       " 9,\n",
       " 11,\n",
       " 13,\n",
       " 15,\n",
       " 17,\n",
       " 19,\n",
       " 21,\n",
       " 23,\n",
       " 25,\n",
       " 27,\n",
       " 29,\n",
       " 31,\n",
       " 33,\n",
       " 35,\n",
       " 37,\n",
       " 39,\n",
       " 41,\n",
       " 43,\n",
       " 45,\n",
       " 47,\n",
       " 49,\n",
       " 51,\n",
       " 53,\n",
       " 55,\n",
       " 57,\n",
       " 59,\n",
       " 61,\n",
       " 63,\n",
       " 65,\n",
       " 67,\n",
       " 69,\n",
       " 71,\n",
       " 73,\n",
       " 75,\n",
       " 77,\n",
       " 79,\n",
       " 81,\n",
       " 83,\n",
       " 85,\n",
       " 87,\n",
       " 89,\n",
       " 91,\n",
       " 93,\n",
       " 95,\n",
       " 97,\n",
       " 99,\n",
       " 101)"
      ]
     },
     "execution_count": 24,
     "metadata": {},
     "output_type": "execute_result"
    }
   ],
   "source": [
    "t4=tuple(range(1,102,2))\n",
    "t4"
   ]
  },
  {
   "cell_type": "code",
   "execution_count": 25,
   "id": "39217289",
   "metadata": {},
   "outputs": [
    {
     "data": {
      "text/plain": [
       "(1, 3, 5, 7, 9)"
      ]
     },
     "execution_count": 25,
     "metadata": {},
     "output_type": "execute_result"
    }
   ],
   "source": [
    "t5= 1,3,5,7,9\n",
    "t5"
   ]
  },
  {
   "cell_type": "code",
   "execution_count": 28,
   "id": "21162cbc",
   "metadata": {},
   "outputs": [
    {
     "data": {
      "text/plain": [
       "tuple"
      ]
     },
     "execution_count": 28,
     "metadata": {},
     "output_type": "execute_result"
    }
   ],
   "source": [
    "t6= 1,\n",
    "type(t6)"
   ]
  },
  {
   "cell_type": "code",
   "execution_count": 30,
   "id": "d2cf74d6",
   "metadata": {},
   "outputs": [
    {
     "data": {
      "text/plain": [
       "['amy', 20, 165.5, ['독서', '코딩']]"
      ]
     },
     "execution_count": 30,
     "metadata": {},
     "output_type": "execute_result"
    }
   ],
   "source": [
    "myinfo=['amy',20,165.5,['독서','코딩']]\n",
    "myinfo"
   ]
  },
  {
   "cell_type": "code",
   "execution_count": 32,
   "id": "b58566fd",
   "metadata": {},
   "outputs": [
    {
     "data": {
      "text/plain": [
       "('amy', 20, 165.5, ['독서', '코딩'])"
      ]
     },
     "execution_count": 32,
     "metadata": {},
     "output_type": "execute_result"
    }
   ],
   "source": [
    "myinfo=('amy',20,165.5,['독서','코딩'])\n",
    "myinfo"
   ]
  },
  {
   "cell_type": "code",
   "execution_count": null,
   "id": "1f2d0cbb",
   "metadata": {},
   "outputs": [],
   "source": []
  }
 ],
 "metadata": {
  "kernelspec": {
   "display_name": "Python 3 (ipykernel)",
   "language": "python",
   "name": "python3"
  },
  "language_info": {
   "codemirror_mode": {
    "name": "ipython",
    "version": 3
   },
   "file_extension": ".py",
   "mimetype": "text/x-python",
   "name": "python",
   "nbconvert_exporter": "python",
   "pygments_lexer": "ipython3",
   "version": "3.9.12"
  },
  "toc": {
   "base_numbering": 1,
   "nav_menu": {},
   "number_sections": true,
   "sideBar": true,
   "skip_h1_title": false,
   "title_cell": "Table of Contents",
   "title_sidebar": "Contents",
   "toc_cell": false,
   "toc_position": {},
   "toc_section_display": true,
   "toc_window_display": false
  }
 },
 "nbformat": 4,
 "nbformat_minor": 5
}
